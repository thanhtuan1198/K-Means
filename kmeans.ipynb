{
  "nbformat": 4,
  "nbformat_minor": 0,
  "metadata": {
    "colab": {
      "name": "kmeans",
      "provenance": [],
      "collapsed_sections": []
    },
    "kernelspec": {
      "name": "python3",
      "display_name": "Python 3"
    }
  },
  "cells": [
    {
      "cell_type": "code",
      "metadata": {
        "id": "bHd0kzIhNdfa",
        "colab_type": "code",
        "outputId": "03b7fdac-5962-4443-e386-7d6cb0f058fb",
        "colab": {
          "base_uri": "https://localhost:8080/",
          "height": 106
        }
      },
      "source": [
        "!pip install pyspark\n",
        "!pip install -U -q PyDrive\n",
        "!apt install openjdk-8-jdk-headless -qq\n",
        "import os\n",
        "os.environ[\"JAVA_HOME\"] = \"/usr/lib/jvm/java-8-openjdk-amd64\""
      ],
      "execution_count": 1,
      "outputs": [
        {
          "output_type": "stream",
          "text": [
            "Requirement already satisfied: pyspark in /usr/local/lib/python3.6/dist-packages (2.4.5)\n",
            "Requirement already satisfied: py4j==0.10.7 in /usr/local/lib/python3.6/dist-packages (from pyspark) (0.10.7)\n",
            "openjdk-8-jdk-headless is already the newest version (8u242-b08-0ubuntu3~18.04).\n",
            "0 upgraded, 0 newly installed, 0 to remove and 25 not upgraded.\n"
          ],
          "name": "stdout"
        }
      ]
    },
    {
      "cell_type": "code",
      "metadata": {
        "id": "V4tdL9OgNlH8",
        "colab_type": "code",
        "colab": {}
      },
      "source": [
        "import pandas as pd\n",
        "import numpy as np\n",
        "import matplotlib.pyplot as plt\n",
        "%matplotlib inline\n",
        "\n",
        "import pyspark\n",
        "from pyspark.sql import *\n",
        "from pyspark.sql.types import *\n",
        "from pyspark.sql.functions import *\n",
        "from pyspark import SparkContext, SparkConf"
      ],
      "execution_count": 0,
      "outputs": []
    },
    {
      "cell_type": "code",
      "metadata": {
        "id": "JRjgouK9NnQP",
        "colab_type": "code",
        "colab": {}
      },
      "source": [
        "# create the session\n",
        "conf = SparkConf().set(\"spark.ui.port\", \"4050\")\n",
        "\n",
        "# create the context\n",
        "sc = pyspark.SparkContext(conf=conf)\n",
        "spark = SparkSession.builder.getOrCreate()"
      ],
      "execution_count": 0,
      "outputs": []
    },
    {
      "cell_type": "code",
      "metadata": {
        "id": "HvHdTnv7YR9n",
        "colab_type": "code",
        "colab": {}
      },
      "source": [
        "from pyspark.mllib.clustering import KMeans, KMeansModel\n",
        "from numpy import array"
      ],
      "execution_count": 0,
      "outputs": []
    },
    {
      "cell_type": "code",
      "metadata": {
        "id": "Rclvc6WtNxwp",
        "colab_type": "code",
        "colab": {}
      },
      "source": [
        "DATA_IN = 'data.txt'\n",
        "\n",
        "INIT_1 = 'c1.txt'\n",
        "INIT_2 = 'c2.txt'\n",
        "\n",
        "data = pd.read_csv(DATA_IN,' ',header=None).values\n",
        "c1 = pd.read_csv(INIT_1,' ',header=None).values\n",
        "c2 = pd.read_csv(INIT_2,' ',header=None).values"
      ],
      "execution_count": 0,
      "outputs": []
    },
    {
      "cell_type": "code",
      "metadata": {
        "id": "8d4eOtMkVlC6",
        "colab_type": "code",
        "colab": {}
      },
      "source": [
        "def L2(a:np.array,b:np.array):\n",
        "    d = a -b\n",
        "    return d.dot(d)\n",
        "\n",
        "\n",
        "def mahaten(a:np.array,b:np.array):\n",
        "    d = a -b\n",
        "    return np.sum(np.abs(d))"
      ],
      "execution_count": 0,
      "outputs": []
    },
    {
      "cell_type": "code",
      "metadata": {
        "id": "oZHL2y5zObcs",
        "colab_type": "code",
        "colab": {}
      },
      "source": [
        "MAX_ITER = 20\n",
        "N_CLUSTER = 10\n",
        "dis_fun = L2"
      ],
      "execution_count": 0,
      "outputs": []
    },
    {
      "cell_type": "code",
      "metadata": {
        "id": "5By3lR1rW01s",
        "colab_type": "code",
        "colab": {}
      },
      "source": [
        "def kmeans(data:np.array,MAX_ITER:int, init_point:np.array,dis_fun):\n",
        "    \n",
        "    cost = np.zeros(MAX_ITER)\n",
        "    for i in range(MAX_ITER):\n",
        "        cluster = np.zeros_like(init_point)\n",
        "        cnt = np.zeros(init_point.shape[0])\n",
        "\n",
        "        for j in range(data.shape[0]):\n",
        "            dist = np.array([dis_fun(data[j],e) for e in init_point])\n",
        "            center = np.argmin(dist)\n",
        "            cost[i] += dist[center]\n",
        "            cluster[center]+= data[j]\n",
        "            cnt[center] += 1\n",
        "        \n",
        "        init_point = cluster / cnt.reshape(cnt.shape[0],-1)\n",
        "\n",
        "    return cost,init_point"
      ],
      "execution_count": 0,
      "outputs": []
    },
    {
      "cell_type": "code",
      "metadata": {
        "id": "XnGnmV3jOlGc",
        "colab_type": "code",
        "colab": {}
      },
      "source": [
        ""
      ],
      "execution_count": 0,
      "outputs": []
    },
    {
      "cell_type": "code",
      "metadata": {
        "id": "UdXluR5lXF3h",
        "colab_type": "code",
        "colab": {}
      },
      "source": [
        "cost1,center1 = kmeans(data,MAX_ITER,c1,L2)\n",
        "cost2,center2 = kmeans(data,MAX_ITER,c2,L2)"
      ],
      "execution_count": 0,
      "outputs": []
    },
    {
      "cell_type": "code",
      "metadata": {
        "id": "f0d-DPBTaESp",
        "colab_type": "code",
        "colab": {
          "base_uri": "https://localhost:8080/",
          "height": 276
        },
        "outputId": "106fa07a-9596-4d6a-e8d2-b5469a5dd603"
      },
      "source": [
        "plt.plot(cost1,label='c1')\n",
        "plt.plot(cost2,label='c2')\n",
        "plt.legend()\n",
        "plt.show()"
      ],
      "execution_count": 10,
      "outputs": [
        {
          "output_type": "display_data",
          "data": {
            "image/png": "[encoded data removed]",
            "text/plain": [
              "<Figure size 432x288 with 1 Axes>"
            ]
          },
          "metadata": {
            "tags": []
          }
        }
      ]
    },
    {
      "cell_type": "code",
      "metadata": {
        "id": "MARL8jUkkrOe",
        "colab_type": "code",
        "colab": {
          "base_uri": "https://localhost:8080/",
          "height": 294
        },
        "outputId": "05abcf47-cc8f-4f9e-b971-2598f3dae851"
      },
      "source": [
        "plt.plot(cost1)"
      ],
      "execution_count": 11,
      "outputs": [
        {
          "output_type": "execute_result",
          "data": {
            "text/plain": [
              "[<matplotlib.lines.Line2D at 0x7f01041d1ba8>]"
            ]
          },
          "metadata": {
            "tags": []
          },
          "execution_count": 11
        },
        {
          "output_type": "display_data",
          "data": {
            "image/png": "[encoded data removed]",
            "text/plain": [
              "<Figure size 432x288 with 1 Axes>"
            ]
          },
          "metadata": {
            "tags": []
          }
        }
      ]
    },
    {
      "cell_type": "code",
      "metadata": {
        "id": "04O-laGdlMPp",
        "colab_type": "code",
        "colab": {
          "base_uri": "https://localhost:8080/",
          "height": 294
        },
        "outputId": "fc3179e3-79f9-4524-bfd5-ccca8040e7d8"
      },
      "source": [
        "plt.plot(cost2)"
      ],
      "execution_count": 12,
      "outputs": [
        {
          "output_type": "execute_result",
          "data": {
            "text/plain": [
              "[<matplotlib.lines.Line2D at 0x7f010414e080>]"
            ]
          },
          "metadata": {
            "tags": []
          },
          "execution_count": 12
        },
        {
          "output_type": "display_data",
          "data": {
            "image/png": "[encoded data removed]",
            "text/plain": [
              "<Figure size 432x288 with 1 Axes>"
            ]
          },
          "metadata": {
            "tags": []
          }
        }
      ]
    },
    {
      "cell_type": "code",
      "metadata": {
        "id": "YpE9LWMzcx1g",
        "colab_type": "code",
        "colab": {}
      },
      "source": [
        "cost1b,center1b = kmeans(data,MAX_ITER,c1,mahaten)\n",
        "cost2b,center2b = kmeans(data,MAX_ITER,c2,mahaten)"
      ],
      "execution_count": 0,
      "outputs": []
    },
    {
      "cell_type": "code",
      "metadata": {
        "id": "d5vt8rZkdOov",
        "colab_type": "code",
        "colab": {
          "base_uri": "https://localhost:8080/",
          "height": 276
        },
        "outputId": "ebeb6480-1cde-4125-b991-288f5e71e1f9"
      },
      "source": [
        "plt.plot(cost1b,label='c1')\n",
        "plt.plot(cost2b,label='c2')\n",
        "plt.legend()\n",
        "plt.show()"
      ],
      "execution_count": 14,
      "outputs": [
        {
          "output_type": "display_data",
          "data": {
            "image/png": "[encoded data removed]",
            "text/plain": [
              "<Figure size 432x288 with 1 Axes>"
            ]
          },
          "metadata": {
            "tags": []
          }
        }
      ]
    },
    {
      "cell_type": "code",
      "metadata": {
        "id": "jcWzAKkslQwk",
        "colab_type": "code",
        "colab": {
          "base_uri": "https://localhost:8080/",
          "height": 282
        },
        "outputId": "e9021022-d231-4e35-9133-01f122ee3186"
      },
      "source": [
        "plt.plot(cost1b)"
      ],
      "execution_count": 15,
      "outputs": [
        {
          "output_type": "execute_result",
          "data": {
            "text/plain": [
              "[<matplotlib.lines.Line2D at 0x7f010411ce48>]"
            ]
          },
          "metadata": {
            "tags": []
          },
          "execution_count": 15
        },
        {
          "output_type": "display_data",
          "data": {
            "image/png": "[encoded data removed]",
            "text/plain": [
              "<Figure size 432x288 with 1 Axes>"
            ]
          },
          "metadata": {
            "tags": []
          }
        }
      ]
    },
    {
      "cell_type": "code",
      "metadata": {
        "id": "MNFz46qTlWz0",
        "colab_type": "code",
        "colab": {
          "base_uri": "https://localhost:8080/",
          "height": 294
        },
        "outputId": "7e9fbf5c-b626-4c2b-c342-efbc4b05ae3a"
      },
      "source": [
        "plt.plot(cost2b)"
      ],
      "execution_count": 16,
      "outputs": [
        {
          "output_type": "execute_result",
          "data": {
            "text/plain": [
              "[<matplotlib.lines.Line2D at 0x7f0104089cf8>]"
            ]
          },
          "metadata": {
            "tags": []
          },
          "execution_count": 16
        },
        {
          "output_type": "display_data",
          "data": {
            "image/png": "[encoded data removed]",
            "text/plain": [
              "<Figure size 432x288 with 1 Axes>"
            ]
          },
          "metadata": {
            "tags": []
          }
        }
      ]
    }
  ]
}